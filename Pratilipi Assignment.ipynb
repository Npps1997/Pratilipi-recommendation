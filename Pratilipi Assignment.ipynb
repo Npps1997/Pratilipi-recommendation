{
 "cells": [
  {
   "cell_type": "code",
   "execution_count": 1,
   "id": "c78f4a86",
   "metadata": {},
   "outputs": [],
   "source": [
    "#Importing modules\n",
    "\n",
    "import numpy as np\n",
    "import pandas as pd"
   ]
  },
  {
   "cell_type": "code",
   "execution_count": 2,
   "id": "e8850be2",
   "metadata": {},
   "outputs": [],
   "source": [
    "#Dataset reading\n",
    "\n",
    "books= pd.read_csv(\"user-interactions.csv\")"
   ]
  },
  {
   "cell_type": "code",
   "execution_count": 3,
   "id": "64823812",
   "metadata": {},
   "outputs": [
    {
     "data": {
      "text/html": [
       "<div>\n",
       "<style scoped>\n",
       "    .dataframe tbody tr th:only-of-type {\n",
       "        vertical-align: middle;\n",
       "    }\n",
       "\n",
       "    .dataframe tbody tr th {\n",
       "        vertical-align: top;\n",
       "    }\n",
       "\n",
       "    .dataframe thead th {\n",
       "        text-align: right;\n",
       "    }\n",
       "</style>\n",
       "<table border=\"1\" class=\"dataframe\">\n",
       "  <thead>\n",
       "    <tr style=\"text-align: right;\">\n",
       "      <th></th>\n",
       "      <th>Unnamed: 0</th>\n",
       "      <th>user_id</th>\n",
       "      <th>pratilipi_id</th>\n",
       "      <th>read_percent</th>\n",
       "      <th>updated_at</th>\n",
       "    </tr>\n",
       "  </thead>\n",
       "  <tbody>\n",
       "    <tr>\n",
       "      <th>0</th>\n",
       "      <td>0</td>\n",
       "      <td>5506791963854965</td>\n",
       "      <td>1377786220672965</td>\n",
       "      <td>100.0</td>\n",
       "      <td>2022-03-23 00:08:26.227</td>\n",
       "    </tr>\n",
       "    <tr>\n",
       "      <th>1</th>\n",
       "      <td>1</td>\n",
       "      <td>5506791979071996</td>\n",
       "      <td>1377786219742624</td>\n",
       "      <td>29.0</td>\n",
       "      <td>2022-03-23 00:08:26.220</td>\n",
       "    </tr>\n",
       "    <tr>\n",
       "      <th>2</th>\n",
       "      <td>2</td>\n",
       "      <td>5506791980256358</td>\n",
       "      <td>1377786217096334</td>\n",
       "      <td>22.0</td>\n",
       "      <td>2022-03-23 00:08:26.020</td>\n",
       "    </tr>\n",
       "    <tr>\n",
       "      <th>3</th>\n",
       "      <td>3</td>\n",
       "      <td>5506791988747277</td>\n",
       "      <td>1377786224767880</td>\n",
       "      <td>100.0</td>\n",
       "      <td>2022-03-23 00:08:25.306</td>\n",
       "    </tr>\n",
       "    <tr>\n",
       "      <th>4</th>\n",
       "      <td>4</td>\n",
       "      <td>5506791992372558</td>\n",
       "      <td>1377786218111595</td>\n",
       "      <td>100.0</td>\n",
       "      <td>2022-03-23 00:08:25.250</td>\n",
       "    </tr>\n",
       "  </tbody>\n",
       "</table>\n",
       "</div>"
      ],
      "text/plain": [
       "   Unnamed: 0           user_id      pratilipi_id  read_percent  \\\n",
       "0           0  5506791963854965  1377786220672965         100.0   \n",
       "1           1  5506791979071996  1377786219742624          29.0   \n",
       "2           2  5506791980256358  1377786217096334          22.0   \n",
       "3           3  5506791988747277  1377786224767880         100.0   \n",
       "4           4  5506791992372558  1377786218111595         100.0   \n",
       "\n",
       "                updated_at  \n",
       "0  2022-03-23 00:08:26.227  \n",
       "1  2022-03-23 00:08:26.220  \n",
       "2  2022-03-23 00:08:26.020  \n",
       "3  2022-03-23 00:08:25.306  \n",
       "4  2022-03-23 00:08:25.250  "
      ]
     },
     "execution_count": 3,
     "metadata": {},
     "output_type": "execute_result"
    }
   ],
   "source": [
    "books.head()"
   ]
  },
  {
   "cell_type": "code",
   "execution_count": 4,
   "id": "7827706f",
   "metadata": {},
   "outputs": [
    {
     "data": {
      "text/plain": [
       "(10000000, 5)"
      ]
     },
     "execution_count": 4,
     "metadata": {},
     "output_type": "execute_result"
    }
   ],
   "source": [
    "books.shape"
   ]
  },
  {
   "cell_type": "code",
   "execution_count": 5,
   "id": "fbade917",
   "metadata": {},
   "outputs": [
    {
     "name": "stdout",
     "output_type": "stream",
     "text": [
      "<class 'pandas.core.frame.DataFrame'>\n",
      "RangeIndex: 10000000 entries, 0 to 9999999\n",
      "Data columns (total 5 columns):\n",
      " #   Column        Dtype  \n",
      "---  ------        -----  \n",
      " 0   Unnamed: 0    int64  \n",
      " 1   user_id       int64  \n",
      " 2   pratilipi_id  int64  \n",
      " 3   read_percent  float64\n",
      " 4   updated_at    object \n",
      "dtypes: float64(1), int64(3), object(1)\n",
      "memory usage: 381.5+ MB\n"
     ]
    }
   ],
   "source": [
    "books.info()"
   ]
  },
  {
   "cell_type": "code",
   "execution_count": 6,
   "id": "e1da550a",
   "metadata": {},
   "outputs": [],
   "source": [
    "#Separating date and time from updated_at column\n",
    "\n",
    "books['Reading_time'] = pd.to_datetime(books['updated_at']).dt.time\n",
    "books['Reading_date'] = pd.to_datetime(books['updated_at']).dt.date\n",
    "\n",
    "books.drop(['Unnamed: 0','updated_at'], axis=1, inplace=True)"
   ]
  },
  {
   "cell_type": "code",
   "execution_count": 7,
   "id": "29450f9b",
   "metadata": {},
   "outputs": [
    {
     "data": {
      "text/html": [
       "<div>\n",
       "<style scoped>\n",
       "    .dataframe tbody tr th:only-of-type {\n",
       "        vertical-align: middle;\n",
       "    }\n",
       "\n",
       "    .dataframe tbody tr th {\n",
       "        vertical-align: top;\n",
       "    }\n",
       "\n",
       "    .dataframe thead th {\n",
       "        text-align: right;\n",
       "    }\n",
       "</style>\n",
       "<table border=\"1\" class=\"dataframe\">\n",
       "  <thead>\n",
       "    <tr style=\"text-align: right;\">\n",
       "      <th></th>\n",
       "      <th>user_id</th>\n",
       "      <th>pratilipi_id</th>\n",
       "      <th>read_percent</th>\n",
       "      <th>Reading_time</th>\n",
       "      <th>Reading_date</th>\n",
       "    </tr>\n",
       "  </thead>\n",
       "  <tbody>\n",
       "    <tr>\n",
       "      <th>0</th>\n",
       "      <td>5506791963854965</td>\n",
       "      <td>1377786220672965</td>\n",
       "      <td>100.0</td>\n",
       "      <td>00:08:26.227000</td>\n",
       "      <td>2022-03-23</td>\n",
       "    </tr>\n",
       "    <tr>\n",
       "      <th>1</th>\n",
       "      <td>5506791979071996</td>\n",
       "      <td>1377786219742624</td>\n",
       "      <td>29.0</td>\n",
       "      <td>00:08:26.220000</td>\n",
       "      <td>2022-03-23</td>\n",
       "    </tr>\n",
       "    <tr>\n",
       "      <th>2</th>\n",
       "      <td>5506791980256358</td>\n",
       "      <td>1377786217096334</td>\n",
       "      <td>22.0</td>\n",
       "      <td>00:08:26.020000</td>\n",
       "      <td>2022-03-23</td>\n",
       "    </tr>\n",
       "    <tr>\n",
       "      <th>3</th>\n",
       "      <td>5506791988747277</td>\n",
       "      <td>1377786224767880</td>\n",
       "      <td>100.0</td>\n",
       "      <td>00:08:25.306000</td>\n",
       "      <td>2022-03-23</td>\n",
       "    </tr>\n",
       "    <tr>\n",
       "      <th>4</th>\n",
       "      <td>5506791992372558</td>\n",
       "      <td>1377786218111595</td>\n",
       "      <td>100.0</td>\n",
       "      <td>00:08:25.250000</td>\n",
       "      <td>2022-03-23</td>\n",
       "    </tr>\n",
       "  </tbody>\n",
       "</table>\n",
       "</div>"
      ],
      "text/plain": [
       "            user_id      pratilipi_id  read_percent     Reading_time  \\\n",
       "0  5506791963854965  1377786220672965         100.0  00:08:26.227000   \n",
       "1  5506791979071996  1377786219742624          29.0  00:08:26.220000   \n",
       "2  5506791980256358  1377786217096334          22.0  00:08:26.020000   \n",
       "3  5506791988747277  1377786224767880         100.0  00:08:25.306000   \n",
       "4  5506791992372558  1377786218111595         100.0  00:08:25.250000   \n",
       "\n",
       "  Reading_date  \n",
       "0   2022-03-23  \n",
       "1   2022-03-23  \n",
       "2   2022-03-23  \n",
       "3   2022-03-23  \n",
       "4   2022-03-23  "
      ]
     },
     "execution_count": 7,
     "metadata": {},
     "output_type": "execute_result"
    }
   ],
   "source": [
    "books.head()"
   ]
  },
  {
   "cell_type": "code",
   "execution_count": 8,
   "id": "efb6236f",
   "metadata": {},
   "outputs": [
    {
     "data": {
      "text/plain": [
       "user_id         0\n",
       "pratilipi_id    0\n",
       "read_percent    0\n",
       "Reading_time    0\n",
       "Reading_date    0\n",
       "dtype: int64"
      ]
     },
     "execution_count": 8,
     "metadata": {},
     "output_type": "execute_result"
    }
   ],
   "source": [
    "#Checking for null values\n",
    "books.isnull().sum()"
   ]
  },
  {
   "cell_type": "code",
   "execution_count": 9,
   "id": "ccc34b96",
   "metadata": {},
   "outputs": [
    {
     "data": {
      "text/plain": [
       "1377786228205426    13630\n",
       "1377786217541698     9850\n",
       "1377786228336060     9390\n",
       "1377786228240538     8519\n",
       "1377786228237359     8364\n",
       "                    ...  \n",
       "1377786221734767        1\n",
       "1377786225162233        1\n",
       "1377786226855030        1\n",
       "1377786226386276        1\n",
       "1377786223645432        1\n",
       "Name: pratilipi_id, Length: 373138, dtype: int64"
      ]
     },
     "execution_count": 9,
     "metadata": {},
     "output_type": "execute_result"
    }
   ],
   "source": [
    "books['pratilipi_id'].value_counts()"
   ]
  },
  {
   "cell_type": "code",
   "execution_count": 10,
   "id": "8f791ee7",
   "metadata": {},
   "outputs": [
    {
     "data": {
      "text/plain": [
       "5506791984436689    1793\n",
       "5506791978555287    1786\n",
       "5506791954021043    1514\n",
       "5506791985959683    1459\n",
       "5371339105280676    1409\n",
       "                    ... \n",
       "5506791993722736       1\n",
       "5506791953500920       1\n",
       "5506791959188177       1\n",
       "5506791996594687       1\n",
       "5506791973515905       1\n",
       "Name: user_id, Length: 355988, dtype: int64"
      ]
     },
     "execution_count": 10,
     "metadata": {},
     "output_type": "execute_result"
    }
   ],
   "source": [
    "books.user_id.value_counts()"
   ]
  },
  {
   "cell_type": "code",
   "execution_count": 11,
   "id": "0668070d",
   "metadata": {},
   "outputs": [
    {
     "data": {
      "text/plain": [
       "0"
      ]
     },
     "execution_count": 11,
     "metadata": {},
     "output_type": "execute_result"
    }
   ],
   "source": [
    "books.duplicated().sum()"
   ]
  },
  {
   "cell_type": "code",
   "execution_count": 12,
   "id": "11ce3bb5",
   "metadata": {},
   "outputs": [
    {
     "data": {
      "text/plain": [
       "<AxesSubplot:xlabel='read_percent', ylabel='Count'>"
      ]
     },
     "execution_count": 12,
     "metadata": {},
     "output_type": "execute_result"
    },
    {
     "data": {
      "image/png": "[encoded data removed]",
      "text/plain": [
       "<Figure size 432x288 with 1 Axes>"
      ]
     },
     "metadata": {
      "needs_background": "light"
     },
     "output_type": "display_data"
    }
   ],
   "source": [
    "import seaborn as sns\n",
    "sns.histplot(data=books, x=\"read_percent\", kde=True)"
   ]
  },
  {
   "cell_type": "markdown",
   "id": "d87edd95",
   "metadata": {},
   "source": [
    "# Collaborative Filtering based recommender"
   ]
  },
  {
   "cell_type": "code",
   "execution_count": 13,
   "id": "bfc0a494",
   "metadata": {},
   "outputs": [],
   "source": [
    "#Grouping dataset on user_id column and considering those users who have read more than 200 pratilipis.\n",
    "x = books.groupby('user_id').count()['pratilipi_id'] > 200\n",
    "padhe_users = x[x].index"
   ]
  },
  {
   "cell_type": "code",
   "execution_count": 14,
   "id": "06860643",
   "metadata": {},
   "outputs": [],
   "source": [
    "filtered_reading = books[books['user_id'].isin(padhe_users)]"
   ]
  },
  {
   "cell_type": "code",
   "execution_count": 15,
   "id": "c0bbcc71",
   "metadata": {},
   "outputs": [],
   "source": [
    "#Grouping dataset on pratilipi_id and considering those pratilipis which has a reading count of more than or equal to 50.\n",
    "y = filtered_reading.groupby('pratilipi_id').count()['read_percent'] >=50\n",
    "famous_books = y[y].index"
   ]
  },
  {
   "cell_type": "code",
   "execution_count": 16,
   "id": "39e91b6e",
   "metadata": {},
   "outputs": [
    {
     "data": {
      "text/plain": [
       "Int64Index([1377786215504942, 1377786215949541, 1377786215998026,\n",
       "            1377786216307009, 1377786216393559, 1377786216396407,\n",
       "            1377786216424173, 1377786216449958, 1377786216463402,\n",
       "            1377786216465378,\n",
       "            ...\n",
       "            1377786228362909, 1377786228363200, 1377786228363262,\n",
       "            1377786228363664, 1377786228364236, 1377786228364502,\n",
       "            1377786228364799, 1377786228366028, 1377786228368115,\n",
       "            1377786228368411],\n",
       "           dtype='int64', name='pratilipi_id', length=14718)"
      ]
     },
     "execution_count": 16,
     "metadata": {},
     "output_type": "execute_result"
    }
   ],
   "source": [
    "famous_books"
   ]
  },
  {
   "cell_type": "code",
   "execution_count": 17,
   "id": "6cc797ec",
   "metadata": {},
   "outputs": [],
   "source": [
    "final_reading = filtered_reading[filtered_reading['pratilipi_id'].isin(famous_books)]"
   ]
  },
  {
   "cell_type": "code",
   "execution_count": 18,
   "id": "4ebec6c0",
   "metadata": {},
   "outputs": [],
   "source": [
    "final_reading = final_reading.drop_duplicates()"
   ]
  },
  {
   "cell_type": "code",
   "execution_count": 19,
   "id": "0e0a335e",
   "metadata": {},
   "outputs": [],
   "source": [
    "#Making pivot table to make user_id as columns and pratilipi_id as rows and read_percent as values\n",
    "pt = final_reading.pivot_table(index='pratilipi_id', columns='user_id', values ='read_percent')"
   ]
  },
  {
   "cell_type": "code",
   "execution_count": 20,
   "id": "eb6fc0ae",
   "metadata": {},
   "outputs": [],
   "source": [
    "pt.fillna(0, inplace= True)"
   ]
  },
  {
   "cell_type": "code",
   "execution_count": 21,
   "id": "ae539950",
   "metadata": {},
   "outputs": [
    {
     "data": {
      "text/html": [
       "<div>\n",
       "<style scoped>\n",
       "    .dataframe tbody tr th:only-of-type {\n",
       "        vertical-align: middle;\n",
       "    }\n",
       "\n",
       "    .dataframe tbody tr th {\n",
       "        vertical-align: top;\n",
       "    }\n",
       "\n",
       "    .dataframe thead th {\n",
       "        text-align: right;\n",
       "    }\n",
       "</style>\n",
       "<table border=\"1\" class=\"dataframe\">\n",
       "  <thead>\n",
       "    <tr style=\"text-align: right;\">\n",
       "      <th>user_id</th>\n",
       "      <th>3263998672675492</th>\n",
       "      <th>3267248272614052</th>\n",
       "      <th>3292327750574756</th>\n",
       "      <th>3325209882305188</th>\n",
       "      <th>3369300870996644</th>\n",
       "      <th>3400649439355556</th>\n",
       "      <th>3415641217213092</th>\n",
       "      <th>3453383519150756</th>\n",
       "      <th>3482862759617188</th>\n",
       "      <th>3509698717721252</th>\n",
       "      <th>...</th>\n",
       "      <th>5506791996445153</th>\n",
       "      <th>5506791996456815</th>\n",
       "      <th>5506791996459059</th>\n",
       "      <th>5506791996481898</th>\n",
       "      <th>5506791996482552</th>\n",
       "      <th>5506791996506941</th>\n",
       "      <th>5506791996518793</th>\n",
       "      <th>5506791996532386</th>\n",
       "      <th>5506791996549504</th>\n",
       "      <th>5506791996588116</th>\n",
       "    </tr>\n",
       "    <tr>\n",
       "      <th>pratilipi_id</th>\n",
       "      <th></th>\n",
       "      <th></th>\n",
       "      <th></th>\n",
       "      <th></th>\n",
       "      <th></th>\n",
       "      <th></th>\n",
       "      <th></th>\n",
       "      <th></th>\n",
       "      <th></th>\n",
       "      <th></th>\n",
       "      <th></th>\n",
       "      <th></th>\n",
       "      <th></th>\n",
       "      <th></th>\n",
       "      <th></th>\n",
       "      <th></th>\n",
       "      <th></th>\n",
       "      <th></th>\n",
       "      <th></th>\n",
       "      <th></th>\n",
       "      <th></th>\n",
       "    </tr>\n",
       "  </thead>\n",
       "  <tbody>\n",
       "    <tr>\n",
       "      <th>1377786215504942</th>\n",
       "      <td>0.0</td>\n",
       "      <td>0.0</td>\n",
       "      <td>0.0</td>\n",
       "      <td>0.0</td>\n",
       "      <td>0.0</td>\n",
       "      <td>0.0</td>\n",
       "      <td>0.0</td>\n",
       "      <td>0.0</td>\n",
       "      <td>0.0</td>\n",
       "      <td>0.0</td>\n",
       "      <td>...</td>\n",
       "      <td>0.0</td>\n",
       "      <td>0.0</td>\n",
       "      <td>0.0</td>\n",
       "      <td>0.0</td>\n",
       "      <td>0.0</td>\n",
       "      <td>0.0</td>\n",
       "      <td>0.0</td>\n",
       "      <td>0.0</td>\n",
       "      <td>0.0</td>\n",
       "      <td>0.0</td>\n",
       "    </tr>\n",
       "    <tr>\n",
       "      <th>1377786215949541</th>\n",
       "      <td>0.0</td>\n",
       "      <td>0.0</td>\n",
       "      <td>0.0</td>\n",
       "      <td>0.0</td>\n",
       "      <td>0.0</td>\n",
       "      <td>0.0</td>\n",
       "      <td>0.0</td>\n",
       "      <td>0.0</td>\n",
       "      <td>0.0</td>\n",
       "      <td>0.0</td>\n",
       "      <td>...</td>\n",
       "      <td>0.0</td>\n",
       "      <td>0.0</td>\n",
       "      <td>0.0</td>\n",
       "      <td>0.0</td>\n",
       "      <td>0.0</td>\n",
       "      <td>0.0</td>\n",
       "      <td>0.0</td>\n",
       "      <td>0.0</td>\n",
       "      <td>0.0</td>\n",
       "      <td>0.0</td>\n",
       "    </tr>\n",
       "    <tr>\n",
       "      <th>1377786215998026</th>\n",
       "      <td>0.0</td>\n",
       "      <td>0.0</td>\n",
       "      <td>0.0</td>\n",
       "      <td>0.0</td>\n",
       "      <td>0.0</td>\n",
       "      <td>0.0</td>\n",
       "      <td>0.0</td>\n",
       "      <td>0.0</td>\n",
       "      <td>0.0</td>\n",
       "      <td>0.0</td>\n",
       "      <td>...</td>\n",
       "      <td>0.0</td>\n",
       "      <td>0.0</td>\n",
       "      <td>0.0</td>\n",
       "      <td>0.0</td>\n",
       "      <td>0.0</td>\n",
       "      <td>0.0</td>\n",
       "      <td>0.0</td>\n",
       "      <td>0.0</td>\n",
       "      <td>0.0</td>\n",
       "      <td>0.0</td>\n",
       "    </tr>\n",
       "    <tr>\n",
       "      <th>1377786216307009</th>\n",
       "      <td>0.0</td>\n",
       "      <td>0.0</td>\n",
       "      <td>0.0</td>\n",
       "      <td>0.0</td>\n",
       "      <td>0.0</td>\n",
       "      <td>0.0</td>\n",
       "      <td>0.0</td>\n",
       "      <td>0.0</td>\n",
       "      <td>0.0</td>\n",
       "      <td>0.0</td>\n",
       "      <td>...</td>\n",
       "      <td>0.0</td>\n",
       "      <td>0.0</td>\n",
       "      <td>0.0</td>\n",
       "      <td>0.0</td>\n",
       "      <td>0.0</td>\n",
       "      <td>0.0</td>\n",
       "      <td>0.0</td>\n",
       "      <td>0.0</td>\n",
       "      <td>0.0</td>\n",
       "      <td>0.0</td>\n",
       "    </tr>\n",
       "    <tr>\n",
       "      <th>1377786216393559</th>\n",
       "      <td>0.0</td>\n",
       "      <td>0.0</td>\n",
       "      <td>0.0</td>\n",
       "      <td>0.0</td>\n",
       "      <td>0.0</td>\n",
       "      <td>0.0</td>\n",
       "      <td>0.0</td>\n",
       "      <td>0.0</td>\n",
       "      <td>0.0</td>\n",
       "      <td>0.0</td>\n",
       "      <td>...</td>\n",
       "      <td>0.0</td>\n",
       "      <td>0.0</td>\n",
       "      <td>0.0</td>\n",
       "      <td>0.0</td>\n",
       "      <td>0.0</td>\n",
       "      <td>0.0</td>\n",
       "      <td>0.0</td>\n",
       "      <td>0.0</td>\n",
       "      <td>0.0</td>\n",
       "      <td>0.0</td>\n",
       "    </tr>\n",
       "    <tr>\n",
       "      <th>...</th>\n",
       "      <td>...</td>\n",
       "      <td>...</td>\n",
       "      <td>...</td>\n",
       "      <td>...</td>\n",
       "      <td>...</td>\n",
       "      <td>...</td>\n",
       "      <td>...</td>\n",
       "      <td>...</td>\n",
       "      <td>...</td>\n",
       "      <td>...</td>\n",
       "      <td>...</td>\n",
       "      <td>...</td>\n",
       "      <td>...</td>\n",
       "      <td>...</td>\n",
       "      <td>...</td>\n",
       "      <td>...</td>\n",
       "      <td>...</td>\n",
       "      <td>...</td>\n",
       "      <td>...</td>\n",
       "      <td>...</td>\n",
       "      <td>...</td>\n",
       "    </tr>\n",
       "    <tr>\n",
       "      <th>1377786228364502</th>\n",
       "      <td>0.0</td>\n",
       "      <td>0.0</td>\n",
       "      <td>0.0</td>\n",
       "      <td>0.0</td>\n",
       "      <td>0.0</td>\n",
       "      <td>0.0</td>\n",
       "      <td>0.0</td>\n",
       "      <td>0.0</td>\n",
       "      <td>0.0</td>\n",
       "      <td>0.0</td>\n",
       "      <td>...</td>\n",
       "      <td>0.0</td>\n",
       "      <td>0.0</td>\n",
       "      <td>0.0</td>\n",
       "      <td>0.0</td>\n",
       "      <td>0.0</td>\n",
       "      <td>0.0</td>\n",
       "      <td>0.0</td>\n",
       "      <td>0.0</td>\n",
       "      <td>0.0</td>\n",
       "      <td>0.0</td>\n",
       "    </tr>\n",
       "    <tr>\n",
       "      <th>1377786228364799</th>\n",
       "      <td>0.0</td>\n",
       "      <td>0.0</td>\n",
       "      <td>0.0</td>\n",
       "      <td>0.0</td>\n",
       "      <td>0.0</td>\n",
       "      <td>0.0</td>\n",
       "      <td>0.0</td>\n",
       "      <td>0.0</td>\n",
       "      <td>0.0</td>\n",
       "      <td>0.0</td>\n",
       "      <td>...</td>\n",
       "      <td>0.0</td>\n",
       "      <td>0.0</td>\n",
       "      <td>0.0</td>\n",
       "      <td>0.0</td>\n",
       "      <td>0.0</td>\n",
       "      <td>0.0</td>\n",
       "      <td>0.0</td>\n",
       "      <td>0.0</td>\n",
       "      <td>0.0</td>\n",
       "      <td>0.0</td>\n",
       "    </tr>\n",
       "    <tr>\n",
       "      <th>1377786228366028</th>\n",
       "      <td>0.0</td>\n",
       "      <td>0.0</td>\n",
       "      <td>0.0</td>\n",
       "      <td>0.0</td>\n",
       "      <td>0.0</td>\n",
       "      <td>0.0</td>\n",
       "      <td>0.0</td>\n",
       "      <td>0.0</td>\n",
       "      <td>0.0</td>\n",
       "      <td>0.0</td>\n",
       "      <td>...</td>\n",
       "      <td>0.0</td>\n",
       "      <td>0.0</td>\n",
       "      <td>0.0</td>\n",
       "      <td>100.0</td>\n",
       "      <td>0.0</td>\n",
       "      <td>0.0</td>\n",
       "      <td>0.0</td>\n",
       "      <td>0.0</td>\n",
       "      <td>0.0</td>\n",
       "      <td>0.0</td>\n",
       "    </tr>\n",
       "    <tr>\n",
       "      <th>1377786228368115</th>\n",
       "      <td>0.0</td>\n",
       "      <td>0.0</td>\n",
       "      <td>0.0</td>\n",
       "      <td>0.0</td>\n",
       "      <td>0.0</td>\n",
       "      <td>0.0</td>\n",
       "      <td>0.0</td>\n",
       "      <td>0.0</td>\n",
       "      <td>0.0</td>\n",
       "      <td>0.0</td>\n",
       "      <td>...</td>\n",
       "      <td>0.0</td>\n",
       "      <td>0.0</td>\n",
       "      <td>0.0</td>\n",
       "      <td>0.0</td>\n",
       "      <td>0.0</td>\n",
       "      <td>0.0</td>\n",
       "      <td>0.0</td>\n",
       "      <td>0.0</td>\n",
       "      <td>0.0</td>\n",
       "      <td>0.0</td>\n",
       "    </tr>\n",
       "    <tr>\n",
       "      <th>1377786228368411</th>\n",
       "      <td>100.0</td>\n",
       "      <td>0.0</td>\n",
       "      <td>0.0</td>\n",
       "      <td>0.0</td>\n",
       "      <td>0.0</td>\n",
       "      <td>100.0</td>\n",
       "      <td>0.0</td>\n",
       "      <td>0.0</td>\n",
       "      <td>0.0</td>\n",
       "      <td>0.0</td>\n",
       "      <td>...</td>\n",
       "      <td>0.0</td>\n",
       "      <td>0.0</td>\n",
       "      <td>0.0</td>\n",
       "      <td>0.0</td>\n",
       "      <td>0.0</td>\n",
       "      <td>0.0</td>\n",
       "      <td>0.0</td>\n",
       "      <td>0.0</td>\n",
       "      <td>0.0</td>\n",
       "      <td>0.0</td>\n",
       "    </tr>\n",
       "  </tbody>\n",
       "</table>\n",
       "<p>14718 rows × 9544 columns</p>\n",
       "</div>"
      ],
      "text/plain": [
       "user_id           3263998672675492  3267248272614052  3292327750574756  \\\n",
       "pratilipi_id                                                             \n",
       "1377786215504942               0.0               0.0               0.0   \n",
       "1377786215949541               0.0               0.0               0.0   \n",
       "1377786215998026               0.0               0.0               0.0   \n",
       "1377786216307009               0.0               0.0               0.0   \n",
       "1377786216393559               0.0               0.0               0.0   \n",
       "...                            ...               ...               ...   \n",
       "1377786228364502               0.0               0.0               0.0   \n",
       "1377786228364799               0.0               0.0               0.0   \n",
       "1377786228366028               0.0               0.0               0.0   \n",
       "1377786228368115               0.0               0.0               0.0   \n",
       "1377786228368411             100.0               0.0               0.0   \n",
       "\n",
       "user_id           3325209882305188  3369300870996644  3400649439355556  \\\n",
       "pratilipi_id                                                             \n",
       "1377786215504942               0.0               0.0               0.0   \n",
       "1377786215949541               0.0               0.0               0.0   \n",
       "1377786215998026               0.0               0.0               0.0   \n",
       "1377786216307009               0.0               0.0               0.0   \n",
       "1377786216393559               0.0               0.0               0.0   \n",
       "...                            ...               ...               ...   \n",
       "1377786228364502               0.0               0.0               0.0   \n",
       "1377786228364799               0.0               0.0               0.0   \n",
       "1377786228366028               0.0               0.0               0.0   \n",
       "1377786228368115               0.0               0.0               0.0   \n",
       "1377786228368411               0.0               0.0             100.0   \n",
       "\n",
       "user_id           3415641217213092  3453383519150756  3482862759617188  \\\n",
       "pratilipi_id                                                             \n",
       "1377786215504942               0.0               0.0               0.0   \n",
       "1377786215949541               0.0               0.0               0.0   \n",
       "1377786215998026               0.0               0.0               0.0   \n",
       "1377786216307009               0.0               0.0               0.0   \n",
       "1377786216393559               0.0               0.0               0.0   \n",
       "...                            ...               ...               ...   \n",
       "1377786228364502               0.0               0.0               0.0   \n",
       "1377786228364799               0.0               0.0               0.0   \n",
       "1377786228366028               0.0               0.0               0.0   \n",
       "1377786228368115               0.0               0.0               0.0   \n",
       "1377786228368411               0.0               0.0               0.0   \n",
       "\n",
       "user_id           3509698717721252  ...  5506791996445153  5506791996456815  \\\n",
       "pratilipi_id                        ...                                       \n",
       "1377786215504942               0.0  ...               0.0               0.0   \n",
       "1377786215949541               0.0  ...               0.0               0.0   \n",
       "1377786215998026               0.0  ...               0.0               0.0   \n",
       "1377786216307009               0.0  ...               0.0               0.0   \n",
       "1377786216393559               0.0  ...               0.0               0.0   \n",
       "...                            ...  ...               ...               ...   \n",
       "1377786228364502               0.0  ...               0.0               0.0   \n",
       "1377786228364799               0.0  ...               0.0               0.0   \n",
       "1377786228366028               0.0  ...               0.0               0.0   \n",
       "1377786228368115               0.0  ...               0.0               0.0   \n",
       "1377786228368411               0.0  ...               0.0               0.0   \n",
       "\n",
       "user_id           5506791996459059  5506791996481898  5506791996482552  \\\n",
       "pratilipi_id                                                             \n",
       "1377786215504942               0.0               0.0               0.0   \n",
       "1377786215949541               0.0               0.0               0.0   \n",
       "1377786215998026               0.0               0.0               0.0   \n",
       "1377786216307009               0.0               0.0               0.0   \n",
       "1377786216393559               0.0               0.0               0.0   \n",
       "...                            ...               ...               ...   \n",
       "1377786228364502               0.0               0.0               0.0   \n",
       "1377786228364799               0.0               0.0               0.0   \n",
       "1377786228366028               0.0             100.0               0.0   \n",
       "1377786228368115               0.0               0.0               0.0   \n",
       "1377786228368411               0.0               0.0               0.0   \n",
       "\n",
       "user_id           5506791996506941  5506791996518793  5506791996532386  \\\n",
       "pratilipi_id                                                             \n",
       "1377786215504942               0.0               0.0               0.0   \n",
       "1377786215949541               0.0               0.0               0.0   \n",
       "1377786215998026               0.0               0.0               0.0   \n",
       "1377786216307009               0.0               0.0               0.0   \n",
       "1377786216393559               0.0               0.0               0.0   \n",
       "...                            ...               ...               ...   \n",
       "1377786228364502               0.0               0.0               0.0   \n",
       "1377786228364799               0.0               0.0               0.0   \n",
       "1377786228366028               0.0               0.0               0.0   \n",
       "1377786228368115               0.0               0.0               0.0   \n",
       "1377786228368411               0.0               0.0               0.0   \n",
       "\n",
       "user_id           5506791996549504  5506791996588116  \n",
       "pratilipi_id                                          \n",
       "1377786215504942               0.0               0.0  \n",
       "1377786215949541               0.0               0.0  \n",
       "1377786215998026               0.0               0.0  \n",
       "1377786216307009               0.0               0.0  \n",
       "1377786216393559               0.0               0.0  \n",
       "...                            ...               ...  \n",
       "1377786228364502               0.0               0.0  \n",
       "1377786228364799               0.0               0.0  \n",
       "1377786228366028               0.0               0.0  \n",
       "1377786228368115               0.0               0.0  \n",
       "1377786228368411               0.0               0.0  \n",
       "\n",
       "[14718 rows x 9544 columns]"
      ]
     },
     "execution_count": 21,
     "metadata": {},
     "output_type": "execute_result"
    }
   ],
   "source": [
    "pt"
   ]
  },
  {
   "cell_type": "code",
   "execution_count": 22,
   "id": "634a3c45",
   "metadata": {},
   "outputs": [],
   "source": [
    "#Importing cosine similarity to find similarity of rows with other rows.\n",
    "from sklearn.metrics.pairwise import cosine_similarity"
   ]
  },
  {
   "cell_type": "code",
   "execution_count": 23,
   "id": "d63a20b8",
   "metadata": {},
   "outputs": [
    {
     "data": {
      "text/plain": [
       "array([[1.        , 0.01380764, 0.01324665, ..., 0.        , 0.        ,\n",
       "        0.        ],\n",
       "       [0.01380764, 1.        , 0.01578138, ..., 0.        , 0.01655295,\n",
       "        0.        ],\n",
       "       [0.01324665, 0.01578138, 1.        , ..., 0.02863288, 0.        ,\n",
       "        0.00917481],\n",
       "       ...,\n",
       "       [0.        , 0.        , 0.02863288, ..., 1.        , 0.        ,\n",
       "        0.03679054],\n",
       "       [0.        , 0.01655295, 0.        , ..., 0.        , 1.        ,\n",
       "        0.04700065],\n",
       "       [0.        , 0.        , 0.00917481, ..., 0.03679054, 0.04700065,\n",
       "        1.        ]])"
      ]
     },
     "execution_count": 23,
     "metadata": {},
     "output_type": "execute_result"
    }
   ],
   "source": [
    "cosine_similarity(pt)"
   ]
  },
  {
   "cell_type": "code",
   "execution_count": 24,
   "id": "af791edb",
   "metadata": {},
   "outputs": [],
   "source": [
    "similarity_score = cosine_similarity(pt)"
   ]
  },
  {
   "cell_type": "code",
   "execution_count": 25,
   "id": "6f6b7fb3",
   "metadata": {},
   "outputs": [],
   "source": [
    "#Function to take pratilipi_id as input and returns similar books based on reading_time by the user.\n",
    "\n",
    "def recommend(Pratilipi_id):\n",
    "    index = np.where(pt.index==Pratilipi_id)[0][0]\n",
    "    similar_items = sorted(list(enumerate(similarity_score[index])),key=lambda x:x[1],reverse=True)[1:6]\n",
    "    data = []\n",
    "    for i in similar_items:\n",
    "        item = []\n",
    "        temp_df = books[books['pratilipi_id'] == pt.index[i[0]]]\n",
    "        item.extend(list(temp_df.drop_duplicates('pratilipi_id')['pratilipi_id'].values))\n",
    "        \n",
    "        data.append(item)\n",
    "    \n",
    "    return data"
   ]
  },
  {
   "cell_type": "code",
   "execution_count": 26,
   "id": "4ca965c3",
   "metadata": {},
   "outputs": [
    {
     "data": {
      "text/plain": [
       "[[1377786228354263],\n",
       " [1377786228333808],\n",
       " [1377786228333274],\n",
       " [1377786228318432],\n",
       " [1377786228303546]]"
      ]
     },
     "execution_count": 26,
     "metadata": {},
     "output_type": "execute_result"
    }
   ],
   "source": [
    "recommend(1377786228364502) # Gives list of 5 books Similar to the book which the user had read."
   ]
  },
  {
   "cell_type": "code",
   "execution_count": null,
   "id": "cdc02eb1",
   "metadata": {},
   "outputs": [],
   "source": []
  }
 ],
 "metadata": {
  "kernelspec": {
   "display_name": "Python 3 (ipykernel)",
   "language": "python",
   "name": "python3"
  },
  "language_info": {
   "codemirror_mode": {
    "name": "ipython",
    "version": 3
   },
   "file_extension": ".py",
   "mimetype": "text/x-python",
   "name": "python",
   "nbconvert_exporter": "python",
   "pygments_lexer": "ipython3",
   "version": "3.10.1"
  }
 },
 "nbformat": 4,
 "nbformat_minor": 5
}
